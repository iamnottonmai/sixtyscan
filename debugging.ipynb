{
 "cells": [
  {
   "cell_type": "markdown",
   "id": "a3e42104",
   "metadata": {},
   "source": [
    "## Load model"
   ]
  },
  {
   "cell_type": "code",
   "execution_count": null,
   "id": "5d27f602",
   "metadata": {},
   "outputs": [
    {
     "name": "stdout",
     "output_type": "stream",
     "text": [
      "Predicted: PD (54.1%)\n"
     ]
    }
   ],
   "source": [
    "import torch\n",
    "from torchvision import transforms\n",
    "from PIL import Image\n",
    "\n",
    "# --- Config ---\n",
    "device = torch.device(\"cuda\" if torch.cuda.is_available() else \"cpu\")\n",
    "num_classes = 2\n",
    "checkpoint_path = \"best_resnet18.pth\"\n",
    "\n",
    "import torch\n",
    "import torch.nn as nn\n",
    "from torchvision import models\n",
    "\n",
    "class ResNet18Classifier(nn.Module):\n",
    "    def __init__(self, num_classes: int = 2, dropout: float = 0.3):\n",
    "        super().__init__()\n",
    "        # load pretrained backbone\n",
    "        self.backbone = models.resnet18(pretrained=True)\n",
    "        in_features = self.backbone.fc.in_features\n",
    "        \n",
    "        # replace the FC head\n",
    "        self.backbone.fc = nn.Sequential(\n",
    "            nn.Linear(in_features, 128),\n",
    "            nn.ReLU(inplace=True),\n",
    "            nn.Dropout(dropout),\n",
    "            nn.Linear(128, num_classes)\n",
    "        )\n",
    "\n",
    "    def forward(self, x: torch.Tensor) -> torch.Tensor:\n",
    "        return self.backbone(x)\n",
    "\n",
    "\n",
    "\n",
    "# --- Recreate model and load weights ---\n",
    "model = ResNet18Classifier(num_classes=num_classes, dropout=0.3)\n",
    "model.load_state_dict(torch.load(checkpoint_path, map_location=device))\n",
    "model.to(device)\n",
    "model.eval()\n",
    "\n",
    "# --- Label map (same as during training) ---\n",
    "idx2label = {0: \"NONPD\", 1: \"PD\"}\n",
    "\n",
    "# --- Inference on a single image ---\n",
    "def predict_image(img_path: str):\n",
    "    preprocess = transforms.Compose([\n",
    "        transforms.Resize((224, 224)),\n",
    "        transforms.ToTensor(),\n",
    "        transforms.Normalize(mean=[0.485, 0.456, 0.406],\n",
    "                             std=[0.229, 0.224, 0.225])\n",
    "    ])\n",
    "    img = Image.open(img_path).convert(\"RGB\")\n",
    "    tensor = preprocess(img).unsqueeze(0).to(device)  # add batch dim\n",
    "    with torch.no_grad():\n",
    "        logits = model(tensor)\n",
    "        probs = torch.softmax(logits, dim=1)\n",
    "        conf, pred = probs.max(dim=1)\n",
    "    return idx2label[pred.item()], conf.item()\n",
    "\n",
    "# Example:\n",
    "label, confidence = predict_image(\"exampleSpectrogram/NonPD Spectrogram 31.png\")\n",
    "print(f\"Predicted: {label} ({confidence*100:.1f}%)\")"
   ]
  }
 ],
 "metadata": {
  "kernelspec": {
   "display_name": "tiger",
   "language": "python",
   "name": "python3"
  },
  "language_info": {
   "codemirror_mode": {
    "name": "ipython",
    "version": 3
   },
   "file_extension": ".py",
   "mimetype": "text/x-python",
   "name": "python",
   "nbconvert_exporter": "python",
   "pygments_lexer": "ipython3",
   "version": "3.10.18"
  }
 },
 "nbformat": 4,
 "nbformat_minor": 5
}
